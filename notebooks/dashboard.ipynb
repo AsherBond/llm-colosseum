{
 "cells": [
  {
   "cell_type": "code",
   "execution_count": 7,
   "metadata": {},
   "outputs": [
    {
     "name": "stdout",
     "output_type": "stream",
     "text": [
      "df shape (263, 6)\n"
     ]
    },
    {
     "data": {
      "text/html": [
       "<div>\n",
       "<style scoped>\n",
       "    .dataframe tbody tr th:only-of-type {\n",
       "        vertical-align: middle;\n",
       "    }\n",
       "\n",
       "    .dataframe tbody tr th {\n",
       "        vertical-align: top;\n",
       "    }\n",
       "\n",
       "    .dataframe thead th {\n",
       "        text-align: right;\n",
       "    }\n",
       "</style>\n",
       "<table border=\"1\" class=\"dataframe\">\n",
       "  <thead>\n",
       "    <tr style=\"text-align: right;\">\n",
       "      <th></th>\n",
       "      <th>id</th>\n",
       "      <th>player_1_model</th>\n",
       "      <th>player_1_temperature</th>\n",
       "      <th>player_2_model</th>\n",
       "      <th>player_2_temperature</th>\n",
       "      <th>player_1_won</th>\n",
       "    </tr>\n",
       "  </thead>\n",
       "  <tbody>\n",
       "    <tr>\n",
       "      <th>0</th>\n",
       "      <td>20240323212519</td>\n",
       "      <td>mistral:mistral-large-latest</td>\n",
       "      <td>0.0</td>\n",
       "      <td>openai:gpt-4-0125-preview</td>\n",
       "      <td>0.0</td>\n",
       "      <td>False</td>\n",
       "    </tr>\n",
       "    <tr>\n",
       "      <th>1</th>\n",
       "      <td>20240323220117</td>\n",
       "      <td>grok:mixtral-8x7b-32768</td>\n",
       "      <td>0.0</td>\n",
       "      <td>openai:gpt-4-0125-preview</td>\n",
       "      <td>0.0</td>\n",
       "      <td>False</td>\n",
       "    </tr>\n",
       "    <tr>\n",
       "      <th>2</th>\n",
       "      <td>20240323220251</td>\n",
       "      <td>grok:mixtral-8x7b-32768</td>\n",
       "      <td>0.0</td>\n",
       "      <td>openai:gpt-4-0125-preview</td>\n",
       "      <td>0.0</td>\n",
       "      <td>True</td>\n",
       "    </tr>\n",
       "    <tr>\n",
       "      <th>3</th>\n",
       "      <td>20240323221351</td>\n",
       "      <td>grok:mixtral-8x7b-32768</td>\n",
       "      <td>0.0</td>\n",
       "      <td>openai:gpt-4-0125-preview</td>\n",
       "      <td>0.0</td>\n",
       "      <td>False</td>\n",
       "    </tr>\n",
       "    <tr>\n",
       "      <th>4</th>\n",
       "      <td>20240323221638</td>\n",
       "      <td>mistral:mistral-small-latest</td>\n",
       "      <td>0.0</td>\n",
       "      <td>mistral:mistral-small-latest</td>\n",
       "      <td>0.0</td>\n",
       "      <td>True</td>\n",
       "    </tr>\n",
       "  </tbody>\n",
       "</table>\n",
       "</div>"
      ],
      "text/plain": [
       "               id                 player_1_model   player_1_temperature  \\\n",
       "0  20240323212519   mistral:mistral-large-latest                    0.0   \n",
       "1  20240323220117        grok:mixtral-8x7b-32768                    0.0   \n",
       "2  20240323220251        grok:mixtral-8x7b-32768                    0.0   \n",
       "3  20240323221351        grok:mixtral-8x7b-32768                    0.0   \n",
       "4  20240323221638   mistral:mistral-small-latest                    0.0   \n",
       "\n",
       "                  player_2_model   player_2_temperature  player_1_won  \n",
       "0      openai:gpt-4-0125-preview                    0.0         False  \n",
       "1      openai:gpt-4-0125-preview                    0.0         False  \n",
       "2      openai:gpt-4-0125-preview                    0.0          True  \n",
       "3      openai:gpt-4-0125-preview                    0.0         False  \n",
       "4   mistral:mistral-small-latest                    0.0          True  "
      ]
     },
     "execution_count": 7,
     "metadata": {},
     "output_type": "execute_result"
    }
   ],
   "source": [
    "import pandas as pd\n",
    "\n",
    "# Read the CSV file\n",
    "df = pd.read_csv('../results.csv')\n",
    "\n",
    "print(f\"df shape {df.shape}\")\n",
    "\n",
    "# Print the DataFrame\n",
    "df.head()"
   ]
  },
  {
   "cell_type": "code",
   "execution_count": 17,
   "metadata": {},
   "outputs": [
    {
     "name": "stdout",
     "output_type": "stream",
     "text": [
      "Column 'winner' does not exist in the DataFrame.\n"
     ]
    }
   ],
   "source": [
    "# Strip leading and trailing spaces from column names\n",
    "df.columns = df.columns.str.strip()\n",
    "\n",
    "# Do the same on the text values\n",
    "df = df.apply(lambda x: x.str.strip() if x.dtype == \"object\" else x)\n",
    "\n",
    "# Now, your existing code should work\n",
    "import matplotlib.pyplot as plt\n",
    "\n",
    "# Check if 'winner' column exists in the DataFrame\n",
    "if 'winner' in df.columns:\n",
    "    # Ensure 'winner' column is of boolean type\n",
    "    df['winner'] = df['winner'].astype(bool)\n",
    "\n",
    "    # Filter the DataFrame based on the condition\n",
    "    winner_counts = df[df['winner'] == True]['player_1'].value_counts()\n",
    "\n",
    "    # Plot the count of occurrences for each player\n",
    "    winner_counts.plot(kind='bar')\n",
    "\n",
    "    # Set the plot title and labels\n",
    "    plt.title('Number of Wins for Each Player')\n",
    "    plt.xlabel('Player')\n",
    "    plt.ylabel('Count')\n",
    "\n",
    "    # Show the plot\n",
    "    plt.show()\n",
    "else:\n",
    "    print(\"Column 'winner' does not exist in the DataFrame.\")"
   ]
  },
  {
   "cell_type": "code",
   "execution_count": 16,
   "metadata": {},
   "outputs": [
    {
     "name": "stdout",
     "output_type": "stream",
     "text": [
      "Players: ['mistral:mistral-large-latest' 'grok:mixtral-8x7b-32768'\n",
      " 'mistral:mistral-small-latest']\n"
     ]
    }
   ],
   "source": [
    "# Get the different contending models\n",
    "players = df['player_1_model'].unique()\n",
    "print(f\"Players: {players}\")\n",
    "\n",
    "# Compute the ELO \n"
   ]
  },
  {
   "cell_type": "code",
   "execution_count": null,
   "metadata": {},
   "outputs": [],
   "source": [
    "# Initialize player ratings\n",
    "player_ratings = {player_id: 1500 for player_id in pd.concat([df['player_1_model'], df['player_1_model']]).unique()}\n",
    "\n",
    "def elo_expected_score(rating_a, rating_b):\n",
    "    return 1 / (1 + 10**((rating_b - rating_a) / 400))\n",
    "\n",
    "def elo_update(winner_rating, loser_rating, k=32):\n",
    "    expected_score_winner = elo_expected_score(winner_rating, loser_rating)\n",
    "    expected_score_loser = 1 - expected_score_winner\n",
    "    new_winner_rating = winner_rating + k * (1 - expected_score_winner)\n",
    "    new_loser_rating = loser_rating + k * (0 - expected_score_loser)\n",
    "    return new_winner_rating, new_loser_rating\n",
    "\n",
    "# Iterate through matches to update ELO ratings\n",
    "for index, row in df.iterrows():\n",
    "    player1, player2, player1_won = row['player_1_model'], row['player_1_model'], row['player_1_won']\n",
    "    \n",
    "    if player1_won:\n",
    "        winner, loser = player1, player2\n",
    "    else:\n",
    "        winner, loser = player2, player1\n",
    "    \n",
    "    new_winner_rating, new_loser_rating = elo_update(player_ratings[winner], player_ratings[loser])\n",
    "    \n",
    "    player_ratings[winner] = new_winner_rating\n",
    "    player_ratings[loser] = new_loser_rating\n",
    "\n",
    "# Print updated ratings\n",
    "print(player_ratings)"
   ]
  }
 ],
 "metadata": {
  "kernelspec": {
   "display_name": "llm-colosseum-2LG-TNbW",
   "language": "python",
   "name": "python3"
  },
  "language_info": {
   "codemirror_mode": {
    "name": "ipython",
    "version": 3
   },
   "file_extension": ".py",
   "mimetype": "text/x-python",
   "name": "python",
   "nbconvert_exporter": "python",
   "pygments_lexer": "ipython3",
   "version": "3.11.6"
  }
 },
 "nbformat": 4,
 "nbformat_minor": 2
}
