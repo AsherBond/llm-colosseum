{
 "cells": [
  {
   "cell_type": "code",
   "execution_count": 5,
   "metadata": {},
   "outputs": [],
   "source": [
    "import numpy as np\n",
    "\n",
    "test = np.array([[[ 64,  80, 144],\n",
    "        [ 64,  80, 144],\n",
    "        [ 64,  80, 144],\n",
    "        [ 24,  32,  80],\n",
    "        [  8,  16,  64],\n",
    "        [  8,  16,  64]],\n",
    "\n",
    "       [[ 32,  48,  96],\n",
    "        [ 64,  80, 144],\n",
    "        [ 64,  80, 144],\n",
    "        [ 24,  32,  80],\n",
    "        [  8,  16,  64],\n",
    "        [  8,  16,  64]]])\n",
    "\n"
   ]
  },
  {
   "cell_type": "code",
   "execution_count": 19,
   "metadata": {},
   "outputs": [
    {
     "data": {
      "text/plain": [
       "(0, 0)"
      ]
     },
     "execution_count": 19,
     "metadata": {},
     "output_type": "execute_result"
    }
   ],
   "source": [
    "# find where color is [64, 80, 144]\n",
    "\n",
    "mask = test == [64, 80, 144]\n",
    "# mask.any(axis=2)\n",
    "\n",
    "coordinates = mask.any(axis=2).nonzero()\n",
    "\n",
    "coordinates[0][0], coordinates[1][0]"
   ]
  },
  {
   "cell_type": "code",
   "execution_count": 16,
   "metadata": {},
   "outputs": [
    {
     "data": {
      "text/plain": [
       "array([[ True,  True,  True, False, False, False],\n",
       "       [False,  True,  True, False, False, False]])"
      ]
     },
     "execution_count": 16,
     "metadata": {},
     "output_type": "execute_result"
    }
   ],
   "source": [
    "mask.any(axis=2)"
   ]
  },
  {
   "cell_type": "code",
   "execution_count": null,
   "metadata": {},
   "outputs": [],
   "source": []
  }
 ],
 "metadata": {
  "kernelspec": {
   "display_name": "mistral-hackathon",
   "language": "python",
   "name": "python3"
  },
  "language_info": {
   "codemirror_mode": {
    "name": "ipython",
    "version": 3
   },
   "file_extension": ".py",
   "mimetype": "text/x-python",
   "name": "python",
   "nbconvert_exporter": "python",
   "pygments_lexer": "ipython3",
   "version": "3.12.2"
  }
 },
 "nbformat": 4,
 "nbformat_minor": 2
}
